{
 "cells": [
  {
   "cell_type": "markdown",
   "metadata": {},
   "source": [
    "# 0. Introduction"
   ]
  },
  {
   "cell_type": "markdown",
   "metadata": {},
   "source": [
    "## Course overview\n",
    "\n",
    "This tutorial aims to teach the basics of Python programming with a focus on its application in computational biochemistry. Assuming no previous knowledge of Python, we start by explaining the basic building blocks (e.g. variables, conditionals, and lists) and build upon these to show examples of how Python can be used to solve problems related to computational biochemistry (e.g. the analysis of protein structures and Molecular Dynamics simulations).\n",
    "\n",
    "Learning how to fully use a programming language, especially for the first time, is a task which can easily take several months to achieve. Indeed, the Python programming language is rather vast and fully covering it would never be achievable within the timeframes allowed by this course. Instead, this workshop aims to offer attendees a jumping point into learning more about Python and its many applications.\n",
    "\n",
    "We recommend the following useful resources for Python:\n",
    "- [Python Documentation](https://docs.python.org/3.11/) (tutorials, library reference, ...)\n",
    "- [CodeAcademy Python tutorial](https://www.codecademy.com/learn/learn-python)\n",
    "\n"
   ]
  },
  {
   "cell_type": "markdown",
   "metadata": {},
   "source": [
    "## Python programming - what and why?\n",
    "\n",
    "The Python programming language is a general-purpose interpreted object-orientated programming language which has existed for over 30 years. Originally developed by Guido van Rossum, the language has matured over the years into a incredibly large ecosystem with millions of developers. Python is not under the care of the Python Software Foundation and usually has yearly releases of the Python programming language, comprising of new features and bug fixes, with the latest release being python 3.11. More information on Python and its development process can be found here: https://www.python.org/. As this workshop concentrates solely on the use of the Python programming language, one could rightly ask why Python and not one of the hundreds of other programming languages that currently exist? There are several reasons as to why this choice was made:\n",
    "\n",
    "1. Python has over recent years become a commonly used tool by scientists looking to rapidly create, explore and analyse data. Many existing scientific tools either exist purely in Python or offer Python interfaces (for example [alphafold](https://github.com/deepmind/alphafold) or the biomolecular viewer [ChimeraX](https://www.cgl.ucsf.edu/chimerax/). It has therefore become important for many scientists to have a working understanding of how to use basic Python commands.\n",
    "\n",
    "\n",
    "2. Python is very flexible and easy to play with. In part due to its nature as an `interpreted language` (unlike languages like C++ and Fortran which are _compiled languages_ that require to be passed through a compiler before a computer can understand written code), it is easy to make modifications to code and directly see how it may affect outcomes. This does come at the cost of performance, with Python being slower than compiled languages, however there are many ways in which savvy programmers can go around this limitation.\n",
    "\n",
    "\n",
    "3. Python is portable, free to use and open-source. Unlike programming language such as Matlab it does not require a paid license to operate. It also works equally well on any operating system, be it; Linux, Windows or MacOS.\n",
    "\n",
    "\n",
    "4. Python comes with an incredibly large ecosystem with many software packages to extend its usage. We unfortunately won’t be touching upon this in this tutorial, but there are many ways to extend Python, with tools such as NumPy for scientific computing (https://numpy.org/), scikit-learn for machine learning (https://scikit-learn.org/stable/), and matplotlib for drawing figures (https://matplotlib.org/). These massively expand the base utility of the Python programming language, allowing for complex tools and packages to be written.\n",
    "\n",
    "That being said, this workshop does not aim to advocate for one programming language over any other. Indeed, each programming language has its own advantage and disadvantages based on the intended use case. With most programming languages having very similar core components and concepts, we hope that this primer to Python programming will serve useful for whichever programming language you many end up using in the future.\n",
    "\n",
    "Other commonly used interpreted languages such as Matlab and R. Matlab's interpreter is not free and open source, so you won't be able to run your code unless you keep paying for a licence. R is a fantastic language for statistical computing, but it is very domain-specific."
   ]
  },
  {
   "cell_type": "markdown",
   "metadata": {},
   "source": [
    "## License and Acknowledgements\n",
    "\n",
    "These workshop materials are licensed under a [CC BY SA 4.0](https://creativecommons.org/licenses/by-sa/4.0/legalcode) license. The workshop materials are the product of several authors who have contributed to this course over the years. Please see [CONTRIBUTORS.md](https://github.com/IAlibay/oxcompbio-python/blob/main/CONTRIBUTORS.md) for a full list of acknowledgements. As the tutorial was not originally tracked on github, we extend our apologies to any authors which may have been missed from this list."
   ]
  },
  {
   "cell_type": "markdown",
   "metadata": {},
   "source": [
    "## Course structure\n",
    "\n",
    "The tutorial is thought across a series of jupyter notebooks:\n",
    "\n",
    "0. Introduction\n",
    "1. Basic Types\n",
    "2. Variables\n",
    "3. Conditionals\n",
    "4. Loops\n",
    "5. Lists\n",
    "6. File Handling\n",
    "7. Functions\n",
    "8. Documentation\n",
    "9. Libraries\n",
    "10. Numpy\n",
    "11. Object Orientated Programming (OOP)\n",
    "12. Protein Analysis\n",
    "13. Running and Analysing a short MD simulation\n",
    "\n",
    "These notebooks are contained within their own labelled/named directories. Within these directories you will also sometimes find `datafiles` sub-directories that contain all the relevant data to run the notebook.\n",
    "\n",
    "We recommend that each section be followed in order, however those with prior experience with Python may wish to jump to the later sections."
   ]
  },
  {
   "cell_type": "markdown",
   "metadata": {},
   "source": [
    "## Launching the notebooks\n",
    "\n",
    "Please see the `setup.md` \"Starting the tutorial\" instructions.\n",
    "\n",
    "Briefly, once you have cloned a copy of these materials and setup your `conda` environment, using a terminal (Anaconda prompt in Windows) do the following:\n",
    "\n",
    "1. Activate the conda environment: `conda activate OxPython`\n",
    "2. Start the jupyter notebook server: `jupyter notebook`\n",
    "3. From there navigate to the desired directory and click on the `.ipynb` notebook you wish to open.\n",
    "4. To close the notebooks, click on \"File\" -> \"Close and Halt\".\n",
    "5. You may then also want to quit the jupyter notebook server altogether.\n"
   ]
  },
  {
   "cell_type": "markdown",
   "metadata": {},
   "source": [
    "## Using the notebooks\n",
    "\n",
    "In order to better demonstrate how the Python programming language works, we employ the use of Jupyter notebooks in this tutorial. [Jupyter notebooks](https://jupyter.org/) are a useful way to demonstrate Python code in a clear and organised manner, whilst avoiding the need to write out files. In practice, one may need to write out code to a file and then run them directly through the command line, how to do this is not directly covered by this tutorial, but do ask a demonstrator for more information!\n",
    "\n",
    "Each notebook is composed of a series of `cells` which can either contain text (such as this one) or code (which will usually have the words `In []:` next to them). You can type in code `cells` by clicking on them and typing whatever changes you want to make.\n",
    "\n",
    "Code cells can be used to run any valid Python code. To do this, simply click on the cell and press the `Run` button in the toolbar above, or type `Shift+Enter`.\n",
    "\n",
    "> ⚠️ **Note:**\n",
    ">All code executed is retained in the `memory` of the notebook. That means that if you `import` a module or declare a variable, these will be seen and can interact with code executed in `cells` further down the notebook. There are many places in this tutorial where modules are imported early on in the notebook and used in subsequent code `cells`. We therefore recommend that   tutorial users do not jump to later parts of the notebook without doing the earlier ones.\n",
    "\n",
    "\n",
    "Notebooks can be cleared to their original state by navigating to `Kernel > Restart & Clear Output`. A further prompt will ask you if you wish to clear all the outputs, pressing on this will return the notebook to a state where no code `cells` have been run.\n",
    "\n",
    "> ⚠️ **Note:**\n",
    ">When finished, it is important that you shut down the notebook properly. This can be done by clicking on `File > Close and Halt`.\n",
    "\n",
    "More information on using Jupyter notebooks (this is recommended pre-reading ahead of starting this workshop), can be found here: https://www.codecademy.com/article/how-to-use-jupyter-notebooks"
   ]
  },
  {
   "cell_type": "markdown",
   "metadata": {},
   "source": [
    "## Running the notebooks from home\n",
    "\n",
    "Instructions on starting the workshop notebooks in the Biochemistry computer lab will be provided on the day. However, should you wish to run the the notebooks online from the convenience of your own computer, you can do so using either Google Colab or binder. Links can be found in the workshop [README](https://github.com/IAlibay/oxcompbio-python/blob/main/README.md)."
   ]
  },
  {
   "cell_type": "markdown",
   "metadata": {},
   "source": [
    "## 0.1 A first command in python:\n",
    "\n",
    "Let's start things off with executing our first Python command. In the cell below we will use `print` to write out \"Hello world\". Try it out by clicking on the cell and pressing `Run` in the toolbar above."
   ]
  },
  {
   "cell_type": "code",
   "execution_count": null,
   "metadata": {},
   "outputs": [],
   "source": [
    "# A first Python command\n",
    "print('Hello world')"
   ]
  },
  {
   "cell_type": "markdown",
   "metadata": {},
   "source": [
    "There is a lot happening here which we will cover in later parts of the workshop. `print` is a function which is offered by default in Python and specifically exists to print out text.\n",
    "\n",
    "The `print` function takes an input value (some text, in quotation marks) and prints the text as output (without the quotation marks). One should note that Python is case-sensitive - ie. we can't use `Print` or `PRINT`.\n",
    "\n",
    "Whilst `print` is a very simple function, it is one of the most useful. It allows us to write out any information relevant to our Python code. This can be anything from usage instruction to the output of some calculation.\n",
    "\n",
    "**Note:** As of Python 3, the inputs to the 'print' function must be placed within parantheses. If you use code developed for Python 2.7 or lower, you may notice that this requirement is not followed and therefore will cause issues if run using Python 3+. There are other key differences between Python 3 and previous versions, some of which will be covered in this tutorial. For a more detailed look into them, the following resource may be of use: [Porting Python 2 Code to Python 3](https://docs.python.org/3.6/howto/pyporting.html). As Python 2.7 reached end of life as of January 2020, we strongly recommend that no new code be written in Python 2.7. You may however notice that older / unmaintaned code may not have moved away from Python 2.7 yet."
   ]
  },
  {
   "cell_type": "markdown",
   "metadata": {},
   "source": [
    "### A note on python comments\n",
    "\n",
    "You will have noticed in the above code block the presence of the words `# A first Python command` and how it does not affect the notebook output. In Python, in-line code comments are indicated using the `#` symbol. That is to say that any text that comes after this `#` is considered to be a \"comment\". Comments are ignored by the _Python interpreter_ and exist solely for the convenience of annotating code. It is considered good practice to comment your code in order to make it more readable for yourself and future users. Other means of commenting Python code, such as docstrings, also exist and will be briefly covered in section 8 of this tutorial.\n",
    "\n",
    "> Definition: The _Python interpreter_ is what takes any written Python code and turns it into commands that your computer can understand and execute."
   ]
  },
  {
   "cell_type": "markdown",
   "metadata": {},
   "source": [
    "### Exercise 0.1.1\n",
    "\n",
    "In the cell below, use print to output the phrase \"This is the second command\"."
   ]
  },
  {
   "cell_type": "code",
   "execution_count": null,
   "metadata": {},
   "outputs": [],
   "source": [
    "# Exercise 0.1.1"
   ]
  },
  {
   "cell_type": "markdown",
   "metadata": {},
   "source": [
    "## 0.2 Python scripts"
   ]
  },
  {
   "cell_type": "markdown",
   "metadata": {},
   "source": [
    "Whilst jupyter notebooks can be useful for demonstrating Python code and prototyping new ideas, the main way in which to run Python code is to execute a script. To do this, you need to write the Python instructions within a file and execute it via the Python interpretor.\n",
    "\n",
    "For example if you were to write the following in a file (let's assume we call it hello.py):\n",
    "\n",
    "```\n",
    "print(\"Hello world\")\n",
    "```\n",
    "\n",
    "And then type `python hello.py` in a terminal, this should print out `Hello world`.\n",
    "\n",
    "As detailed above, this tutorial we will focuses on executing code within jupyter notebooks. However, it is worth remembering that using written scripts/code is often a much more reproducible and manageable way to use Python."
   ]
  },
  {
   "cell_type": "markdown",
   "metadata": {},
   "source": [
    "## Review\n",
    "\n",
    "In this tutorial section we have:\n",
    "- Detailed the contents of the tutorial.\n",
    "- Shown how to execute and use a jupyter notebook session.\n",
    "- Used a function, `print`.\n",
    "- Discussed how to write Python scripts.\n",
    "- Discussed some of the advantages and disadvantages of Python"
   ]
  }
 ],
 "metadata": {
  "kernelspec": {
   "display_name": "Python 3 (ipykernel)",
   "language": "python",
   "name": "python3"
  },
  "language_info": {
   "codemirror_mode": {
    "name": "ipython",
    "version": 3
   },
   "file_extension": ".py",
   "mimetype": "text/x-python",
   "name": "python",
   "nbconvert_exporter": "python",
   "pygments_lexer": "ipython3",
   "version": "3.9.15"
  }
 },
 "nbformat": 4,
 "nbformat_minor": 1
}
