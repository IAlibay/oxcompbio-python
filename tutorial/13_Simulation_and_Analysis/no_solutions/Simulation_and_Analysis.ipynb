{
 "cells": [
  {
   "cell_type": "markdown",
   "metadata": {},
   "source": [
    "# 13. Molecular dynamics simulations and analysis using Python"
   ]
  },
  {
   "cell_type": "markdown",
   "metadata": {},
   "source": [
    "## Google Colab package installs\n",
    "\n",
    "This installs the necessary packages for Google Colab. Please only run these if you are using Colab."
   ]
  },
  {
   "cell_type": "code",
   "execution_count": null,
   "metadata": {},
   "outputs": [],
   "source": [
    "# NBVAL_SKIP\n",
    "!if [ -n \"$COLAB_RELEASE_TAG\" ]; then pip install condacolab; fi\n",
    "import condacolab\n",
    "condacolab.install()"
   ]
  },
  {
   "cell_type": "code",
   "execution_count": null,
   "metadata": {},
   "outputs": [],
   "source": [
    "# NBVAL_SKIP\n",
    "import condacolab\n",
    "condacolab.check()\n",
    "!mamba install -c conda-forge mdanalysis mdanalysistests openmm parmed nglview"
   ]
  },
  {
   "cell_type": "code",
   "execution_count": null,
   "metadata": {},
   "outputs": [],
   "source": [
    "# NBVAL_SKIP\n",
    "# enable third party jupyter widgets\n",
    "from google.colab import output\n",
    "output.enable_custom_widget_manager()"
   ]
  },
  {
   "cell_type": "markdown",
   "metadata": {},
   "source": [
    "Later in the course you will look at how you can use Molecular Dynamics simulations as a powerful tool to explore the motion of complex systems.\n",
    "\n",
    "To achieve this you will employ the Gromacs Molecular Dynamics engine, which is both very efficient and feature rich, but relies on the use of command-line calls rather than Python."
   ]
  },
  {
   "cell_type": "markdown",
   "metadata": {},
   "source": [
    "Here we demonstrate how you could use Python to both carry out and analyse Molecular Dynamics trajectories.\n",
    "\n",
    "> Note: we intentionally do not go into the details of the Molecular Dynamics simulations as this will be covered in the Molecular Dynamics Workshop. This should be considered as more of a technical demonstration."
   ]
  },
  {
   "cell_type": "markdown",
   "metadata": {},
   "source": [
    "### Python libraries\n",
    "\n",
    "In this tutorial we will be using three main non-standard python libraries:\n",
    "\n",
    "1. [OpenMM](https://openmm.org/)\n",
    "OpenMM is a high-performance toolkit for molecular simulations with a convenient Python interface.\n",
    "\n",
    "2. [ParmEd](https://parmed.github.io/ParmEd/html/index.html)\n",
    "A general tool for aiding the investigation of biomolecular systems using most popular molecular simulations packages.\n",
    "\n",
    "2. [MDAnalysis](https://www.mdanalysis.org/):\n",
    "MDAnalysis is a python library primarily developed to help with the anlysis of Molecular Dynamics (MD) trajectories. Beyond just MD, it offers many different tools and functions that can be useful when trying to explore atomistic models.\n",
    "\n",
    "3. [NGLView](https://github.com/nglviewer/nglview)\n",
    "NGLView is a powerful widget that allows you to visualise molecular models within jupyter notebooks.\n",
    "\n",
    "4. [Matplotlib](https://matplotlib.org/)\n",
    "One of the main plotting tools for python, matplotlib offers a wide range of functionality to generate graphs of everything from a simple scatter plot to [complex animated 3D plots](https://matplotlib.org/gallery/animation/random_walk.html#sphx-glr-gallery-animation-random-walk-py)."
   ]
  },
  {
   "cell_type": "markdown",
   "metadata": {},
   "source": [
    "## 1. Simulating HIV-1 protease\n",
    "\n",
    "Carrying on from the previous notebook, and in anticipation of the Docking workshop, we again look at the HIV-1 protease. Here we will be running a short simulation of the protein alone (without its ligand binder) in order to observe how the protein moves over time.\n",
    "\n",
    "We have prepared ahead of time a version of the 1HSG system we looked at in the previous notebook with both the waters and ligand removed, and protons added. This can be found under `datafiles/1hsg.pdb`.\n",
    "\n",
    "> Note: there are many ways to protonate system, here we used the [ProteinPlus](https://proteins.plus/) webserver from the ZBH Center for Bioinformatics."
   ]
  },
  {
   "cell_type": "markdown",
   "metadata": {
    "solution2": "hidden",
    "solution2_first": true
   },
   "source": [
    "#### A note on system conditions\n",
    "\n",
    "In order to make sure that we can simulate the protein on your computer within a reasonable amount of time, we will use an _implicit solvent_ model. This means that we don't physically include water molecules, instead we alter the nonbonded interactions between the protein atoms in order to simulate the how these waters would influence these interactions.\n",
    "\n",
    "#### Q1. How could this be problematic?"
   ]
  },
  {
   "cell_type": "markdown",
   "metadata": {
    "solution2": "hidden"
   },
   "source": [
    "> Implicit waters do a good job at scaling interatomic interactions to account for the different dielectric constant which exist under solvated conditions. However, specific interactions between water and protein atoms are completely missed. This can be especially problematic when waters have a key structural interactions.\n",
    "> Other issues include missing entropic effects related to water organisation within a system."
   ]
  },
  {
   "cell_type": "markdown",
   "metadata": {},
   "source": [
    "### 1.1 Creating an OpenMM simulation\n",
    "\n",
    "Here we will use various OpenMM tools in order to create a simulation"
   ]
  },
  {
   "cell_type": "code",
   "execution_count": null,
   "metadata": {},
   "outputs": [],
   "source": [
    "# First we load the PDB file into the OpenMM PDBFile class\n",
    "from openmm.app import PDBFile, Modeller\n",
    "\n",
    "pdb = PDBFile('./datafiles/1hsg.pdb')\n",
    "\n",
    "# We pass this to a OpenMM modeller object which allows us to \n",
    "# edit and manipulate the protein system\n",
    "model = Modeller(pdb.topology, pdb.positions)"
   ]
  },
  {
   "cell_type": "code",
   "execution_count": null,
   "metadata": {},
   "outputs": [],
   "source": [
    "# Then we define a force field that will define the forces between the atoms of our protein\n",
    "# Here we use the AMBER 14SB force field as defined by Maier et al.\n",
    "# https://pubs.acs.org/doi/abs/10.1021/acs.jctc.5b00255\n",
    "# We also select the GBn2 implicit solvent by Nguyen et al. https://pubmed.ncbi.nlm.nih.gov/25788871/\n",
    "from openmm.app import ForceField\n",
    "\n",
    "forcefield = ForceField('amber14/protein.ff14SB.xml', 'implicit/gbn2.xml')"
   ]
  },
  {
   "cell_type": "code",
   "execution_count": null,
   "metadata": {},
   "outputs": [],
   "source": [
    "# Then we combine the forcefield and the protein model to create a \"System\"\n",
    "# The OpenMM System defines all the necessary parameters needed to run a Molecular Dynamics Simulation\n",
    "# We set our nonbonded interactions to \"NoCutoff\" which is necessary for implicit solvent simulations.\n",
    "# This essentially means that interactions being all pairs of atoms are calculated.\n",
    "# We also constraint our hydrogen bonds in order to use an integration timestep of 2 fs.\n",
    "from openmm.app import NoCutoff, HBonds, GBn2\n",
    "from openmm import unit\n",
    "\n",
    "system = forcefield.createSystem(model.topology, nonbondedMethod=NoCutoff,\n",
    "                                 constraints=HBonds)"
   ]
  },
  {
   "cell_type": "code",
   "execution_count": null,
   "metadata": {},
   "outputs": [],
   "source": [
    "# Then we define an integrator which will integration the newtonian equations of motions for\n",
    "# our protein system over time (with a discretisation of 2 fs, and a temperature of 298.15 K)\n",
    "# Note we are using the  Langevin integrator\n",
    "from openmm import LangevinIntegrator\n",
    "\n",
    "integrator = LangevinIntegrator(\n",
    "    298.15 * unit.kelvin, # The temperature we run our simulation at\n",
    "    1.0 / unit.picoseconds, # The friction coefficient which controls our stochastic integrator\n",
    "    2.0 * unit.femtoseconds, # The integration timestep\n",
    ")"
   ]
  },
  {
   "cell_type": "code",
   "execution_count": null,
   "metadata": {},
   "outputs": [],
   "source": [
    "# We choose what hardware we will run our simulation on\n",
    "# Since the oxford biochemistry computer lab computers don't have GPUs, we default to CPUs\n",
    "from openmm import Platform\n",
    "platform = Platform.getPlatformByName('CPU')"
   ]
  },
  {
   "cell_type": "code",
   "execution_count": null,
   "metadata": {},
   "outputs": [],
   "source": [
    "# Finally we create a simulation object which will run our simulation\n",
    "from openmm.app import Simulation\n",
    "simulation = Simulation(model.topology, system, integrator, platform)\n",
    "\n",
    "# We set the initial coordinate of our simulation to those which we read in from the input PDB\n",
    "simulation.context.setPositions(model.positions)"
   ]
  },
  {
   "cell_type": "code",
   "execution_count": null,
   "metadata": {},
   "outputs": [],
   "source": [
    "# Next we minimize our system in order to resolve any large atomic clashes in our model\n",
    "# Note: in practice you would carry out many more iterations of energy minimization\n",
    "simulation.minimizeEnergy(maxIterations=500)"
   ]
  },
  {
   "cell_type": "code",
   "execution_count": null,
   "metadata": {},
   "outputs": [],
   "source": [
    "# We set some reporters to write out the energies (StateDataReporter) and coordinates (NetCDFReporter) of the system\n",
    "import sys\n",
    "from parmed.openmm import StateDataReporter, NetCDFReporter\n",
    "\n",
    "simulation.reporters.append(\n",
    "    StateDataReporter(sys.stdout, 20, step=True, potentialEnergy=True,\n",
    "                      kineticEnergy=True, temperature=True)\n",
    ")\n",
    "    \n",
    "simulation.reporters.append(\n",
    "    NetCDFReporter('1hsg.nc', 20, crds=True)\n",
    ")"
   ]
  },
  {
   "cell_type": "code",
   "execution_count": null,
   "metadata": {},
   "outputs": [],
   "source": [
    "# Now we run a short molecular dynamics simulation\n",
    "simulation.step(1000)"
   ]
  },
  {
   "cell_type": "code",
   "execution_count": null,
   "metadata": {},
   "outputs": [],
   "source": [
    "# Let's close our NetCDF reporter\n",
    "simulation.reporters[1].finalize()"
   ]
  },
  {
   "cell_type": "markdown",
   "metadata": {},
   "source": [
    "The simulation carried out here is only 2 picosecond in length in order to make sure it could be carried out on modest computers within the timeframe of this workshop. In practice, much much longer simulations (on the order of microseconds), would be carried out in order to obtain meaningful information about the protein dynamics."
   ]
  },
  {
   "cell_type": "markdown",
   "metadata": {},
   "source": [
    "## 2. Analyzing our simulation"
   ]
  },
  {
   "cell_type": "markdown",
   "metadata": {},
   "source": [
    "Here we again use MDAnalysis and NGLView in order to examine our Molecular Dynamics trajectory."
   ]
  },
  {
   "cell_type": "markdown",
   "metadata": {},
   "source": [
    "First we create an MDAnalysis `Universe` using the OpenMM system and the `1hsg.nc` trajectory file we created above."
   ]
  },
  {
   "cell_type": "code",
   "execution_count": null,
   "metadata": {},
   "outputs": [],
   "source": [
    "import MDAnalysis as mda\n",
    "\n",
    "universe = mda.Universe('datafiles/1hsg.pdb', '1hsg.nc')"
   ]
  },
  {
   "cell_type": "markdown",
   "metadata": {},
   "source": [
    "Next we visualise the trajectory using NGLView"
   ]
  },
  {
   "cell_type": "code",
   "execution_count": null,
   "metadata": {},
   "outputs": [],
   "source": [
    "import nglview\n",
    "\n",
    "view = nglview.show_mdanalysis(universe)"
   ]
  },
  {
   "cell_type": "markdown",
   "metadata": {},
   "source": [
    "By default this pre-sets the nglview to show the protein in the cartoon representation. Let's add a few options to change the display a little bit"
   ]
  },
  {
   "cell_type": "code",
   "execution_count": null,
   "metadata": {},
   "outputs": [],
   "source": [
    "# Let's update the cartoon representation to colour the protein by secondary structure\n",
    "view.update_cartoon(color='sstruc')\n",
    "\n",
    "# Let's change the display a little bit\n",
    "view.parameters = dict(camera_type='orthographic', clip_dist=0)\n",
    "\n",
    "# Set the background colour to black\n",
    "view.background = 'black'\n",
    "\n",
    "# Call protein_view to visualise the trajectory\n",
    "view"
   ]
  },
  {
   "cell_type": "markdown",
   "metadata": {},
   "source": [
    "As you can be seen from the trajectory, the HIV-1 protease structure does indeed move, but by how much? In the next section we will see how we can use MDAnalysis to quantify backbone fluctuations."
   ]
  },
  {
   "cell_type": "markdown",
   "metadata": {},
   "source": [
    "### Calculating the root-mean-square deviation\n",
    "\n",
    "In order to gain a quantitative description of how the HIV-1 protease moves in our simulation we can calculate the root-mean-square deviation (RMSD) of the protein backbone.\n",
    "\n",
    "The RMSD gives us an idea of how 'stable' our protein is when compared to our starting, static, structure. The lower the RMSD is the, more stable we can say our protein is.\n",
    "\n",
    "The RMSD as a function of time, $\\rho (t)$, can be defined by the following equation:\n",
    "\n",
    "\\begin{equation}\n",
    "\\rho (t) = \\sqrt{\\frac{1}{N}\\sum^N_{i=1}w_i\\big(\\mathbf{x}_i(t) - \\mathbf{x}^{\\text{ref}}_i\\big)^2}\n",
    "\\end{equation}\n",
    "\n",
    "Luckily MDAnalysis has its own built-in function to calcualte this, we can import it like we did before."
   ]
  },
  {
   "cell_type": "code",
   "execution_count": null,
   "metadata": {},
   "outputs": [],
   "source": [
    "from MDAnalysis.analysis.rms import RMSD as rmsd"
   ]
  },
  {
   "cell_type": "markdown",
   "metadata": {},
   "source": [
    "In order to calculate the RMSD for every frame in our trajectory we will need:\n",
    "\n",
    "* A universe object\n",
    "* A selection of atoms\n",
    "\n",
    "\n",
    "Our universe object will be the input universe we created above and for our selection we will use the backbone atoms."
   ]
  },
  {
   "cell_type": "code",
   "execution_count": null,
   "metadata": {},
   "outputs": [],
   "source": [
    "# Run our RMSD calculation\n",
    "\n",
    "R = rmsd(universe,\n",
    "         select='backbone')\n",
    "R.run(verbose=True)"
   ]
  },
  {
   "cell_type": "markdown",
   "metadata": {},
   "source": [
    "We can easily plot this data using the common matplotlib plotting package."
   ]
  },
  {
   "cell_type": "code",
   "execution_count": null,
   "metadata": {},
   "outputs": [],
   "source": [
    "import matplotlib.pyplot as plt\n",
    "\n",
    "plt.plot(R.results.rmsd.T[0], R.results.rmsd.T[2])\n",
    "plt.ylabel(r'RMSD ($\\AA$)')\n",
    "plt.xlabel('Frame number')"
   ]
  },
  {
   "cell_type": "markdown",
   "metadata": {},
   "source": [
    "### Calculating the root-mean-square deviation\n",
    "\n",
    "To look at how each residue flucuates over it's average postion we can use the closely related measurement of root-mean-square fluctuation (RMSF).\n",
    "\n",
    "The RMSF for an atom,  $\\rho_i$, is given by:\n",
    "\n",
    "\\begin{equation}\n",
    "\\rho_i = \\sqrt{\\sum^N_{i=1} \\big\\langle(\\mathbf{x}_i - \\langle \\mathbf{x}_i \\rangle )^2 \\big\\rangle }\n",
    "\\end{equation}\n"
   ]
  },
  {
   "cell_type": "code",
   "execution_count": null,
   "metadata": {},
   "outputs": [],
   "source": [
    "from MDAnalysis.analysis import rms, align"
   ]
  },
  {
   "cell_type": "markdown",
   "metadata": {},
   "source": [
    "To begin with, we have to align our trajectory to remove any fluctuations related to rotation and translational motion"
   ]
  },
  {
   "cell_type": "code",
   "execution_count": null,
   "metadata": {},
   "outputs": [],
   "source": [
    "# We can generate an average structure to align to with the `align.AligntStructure` class.\n",
    "\n",
    "average = align.AverageStructure(universe, universe, select='protein and name CA',\n",
    "                                 ref_frame=0).run()\n",
    "ref = average.results.universe"
   ]
  },
  {
   "cell_type": "code",
   "execution_count": null,
   "metadata": {},
   "outputs": [],
   "source": [
    "# Next we align our trajectory against this average structure\n",
    "\n",
    "aligner = align.AlignTraj(universe, ref,\n",
    "                          select='protein and name CA',\n",
    "                          in_memory=True).run()"
   ]
  },
  {
   "cell_type": "code",
   "execution_count": null,
   "metadata": {},
   "outputs": [],
   "source": [
    "# Finally we calculate the RMSF based on the alpha carbons of our protein\n",
    "c_alphas = universe.select_atoms('protein and name CA')\n",
    "R = rms.RMSF(c_alphas).run()"
   ]
  },
  {
   "cell_type": "code",
   "execution_count": null,
   "metadata": {},
   "outputs": [],
   "source": [
    "# We can plot our results using matplotlib\n",
    "plt.plot(c_alphas.resids, R.results.rmsf)\n",
    "plt.xlabel('Residue number')\n",
    "plt.ylabel('RMSF ($\\AA$)')\n",
    "plt.legend();"
   ]
  },
  {
   "cell_type": "markdown",
   "metadata": {},
   "source": [
    "We can visualise the fluctuations using NGLview by passing the values to the `tempfactor` attribute of the system."
   ]
  },
  {
   "cell_type": "code",
   "execution_count": null,
   "metadata": {},
   "outputs": [],
   "source": [
    "universe.add_TopologyAttr('tempfactors') # add empty attribute for all atoms\n",
    "protein = universe.select_atoms('protein') # select protein atoms\n",
    "for residue, r_value in zip(protein.residues, R.rmsf):\n",
    "    residue.atoms.tempfactors = r_value"
   ]
  },
  {
   "cell_type": "code",
   "execution_count": null,
   "metadata": {},
   "outputs": [],
   "source": [
    "view = nglview.show_mdanalysis(universe)\n",
    "view.update_representation(color_scheme='bfactor')\n",
    "view"
   ]
  },
  {
   "cell_type": "markdown",
   "metadata": {
    "solution2": "hidden"
   },
   "source": [
    "> Answer: the PDB page states the number of protein residues, so there are 128 non-protein residues"
   ]
  },
  {
   "cell_type": "markdown",
   "metadata": {
    "solution2": "hidden"
   },
   "source": [
    "> Answer: Here we go from red being low beta factor regions, to blue being high ones. That is to say that bluer regions are more mobile."
   ]
  },
  {
   "cell_type": "markdown",
   "metadata": {
    "solution2": "hidden"
   },
   "source": [
    "> Answer: think about which areas are more solvent exposed and therefore more likely to be in motion."
   ]
  },
  {
   "cell_type": "markdown",
   "metadata": {
    "solution2": "hidden"
   },
   "source": [
    "> Answer: the loops composed of residues 49-52 are quite mobile and close to the ligand. In fact previous [work by Hornak et al.](https://www.pnas.org/content/103/4/915) shows that these can spontaneously open and close. Doing a molecular dynamics simulation, might be helpful in elucidating how these loops move."
   ]
  }
 ],
 "metadata": {
  "kernelspec": {
   "display_name": "Python 3 (ipykernel)",
   "language": "python",
   "name": "python3"
  },
  "language_info": {
   "codemirror_mode": {
    "name": "ipython",
    "version": 3
   },
   "file_extension": ".py",
   "mimetype": "text/x-python",
   "name": "python",
   "nbconvert_exporter": "python",
   "pygments_lexer": "ipython3",
   "version": "3.9.15"
  }
 },
 "nbformat": 4,
 "nbformat_minor": 4
}
