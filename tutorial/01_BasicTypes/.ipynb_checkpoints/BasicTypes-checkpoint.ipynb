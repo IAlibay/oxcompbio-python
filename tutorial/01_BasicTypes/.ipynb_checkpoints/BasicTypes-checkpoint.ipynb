{
 "cells": [
  {
   "cell_type": "markdown",
   "metadata": {},
   "source": [
    "# 1. Object types in Python"
   ]
  },
  {
   "cell_type": "markdown",
   "metadata": {},
   "source": [
    "## Introduction\n",
    "\n",
    "Python, being an object-orientated programming language, essentially works on the idea of manipulating various building blocks, which we call objects, in order to achieve a given outcome. Covering the philosophy of object-orientated programming and how objects work is beyond the scope of this workshop. \n",
    "\n",
    "Here we will primarily look at the basic types of Python objects and how they work. Whilst each object is created dynamically, they all have what we call a `type`, which defines how that object behaves. For example, the “Hello World” (introduced in the previous section) is a text based object, also known as a `string`.\n",
    "\n",
    "Object types include: \n",
    "- strings (i.e. text)\n",
    "- integers (i.e. whole numbers, both positive and negative)\n",
    "- floating point values (i.e. decimal numbers)\n",
    "- boolean values (i.e. True or False)"
   ]
  },
  {
   "cell_type": "markdown",
   "metadata": {},
   "source": [
    "## 1.1 Integers and floating points"
   ]
  },
  {
   "cell_type": "markdown",
   "metadata": {},
   "source": [
    "Integers are in some ways the simplest of types, they essentially represent whole numbers and require no special treatment."
   ]
  },
  {
   "cell_type": "code",
   "execution_count": null,
   "metadata": {},
   "outputs": [],
   "source": [
    "# print the number 10\n",
    "print(10)"
   ]
  },
  {
   "cell_type": "markdown",
   "metadata": {},
   "source": [
    "Similarly a float (or floating point number) is just represented as a decimal:"
   ]
  },
  {
   "cell_type": "code",
   "execution_count": null,
   "metadata": {},
   "outputs": [],
   "source": [
    "# print the float 10.5\n",
    "print(10.5)"
   ]
  },
  {
   "cell_type": "markdown",
   "metadata": {},
   "source": [
    "We don't necessarily need to put any numbers after the floating point, eg, 5. is the same as 5.0:"
   ]
  },
  {
   "cell_type": "code",
   "execution_count": null,
   "metadata": {},
   "outputs": [],
   "source": [
    "5."
   ]
  },
  {
   "cell_type": "markdown",
   "metadata": {},
   "source": [
    "Like using a calculator, you can perform arithmetic operations on integers and floats. You can add and substract using the `+` and `/` operators respectively:"
   ]
  },
  {
   "cell_type": "code",
   "execution_count": null,
   "metadata": {},
   "outputs": [],
   "source": [
    "# Add 2 and 4\n",
    "print(2 + 4)"
   ]
  },
  {
   "cell_type": "code",
   "execution_count": null,
   "metadata": {},
   "outputs": [],
   "source": [
    "# Substract 3 from 5\n",
    "print(5 - 3)"
   ]
  },
  {
   "cell_type": "markdown",
   "metadata": {},
   "source": [
    "Note: the spacing between numbers and symbols usually does not matter, although using a single empty space around the operator does improve readability."
   ]
  },
  {
   "cell_type": "code",
   "execution_count": null,
   "metadata": {},
   "outputs": [],
   "source": [
    "print(7-   10)"
   ]
  },
  {
   "cell_type": "markdown",
   "metadata": {},
   "source": [
    "Multiplying and dividing can be achieved using `*` and `/` operators respectively."
   ]
  },
  {
   "cell_type": "code",
   "execution_count": null,
   "metadata": {},
   "outputs": [],
   "source": [
    "print(2 * 5)"
   ]
  },
  {
   "cell_type": "code",
   "execution_count": null,
   "metadata": {},
   "outputs": [],
   "source": [
    "print(4 / 3)"
   ]
  },
  {
   "cell_type": "markdown",
   "metadata": {},
   "source": [
    "Note that when dividing integers, a floating point type value (i.e. a decimal) will be returned. Similarly, when doing any operation between a float and integer, a float will be returned.\n",
    "\n",
    "> ⚠️ In previous versions of Python (v2.7 and lower), only integer types (i.e. whole numbers) would be returned when two integers are divided. This very specific difference between versions is a frequent source of errors when porting Python code."
   ]
  },
  {
   "cell_type": "code",
   "execution_count": null,
   "metadata": {},
   "outputs": [],
   "source": [
    "print(2.0 * 3)\n",
    "print(4 - 1.0)\n",
    "print(2 + 0.5)"
   ]
  },
  {
   "cell_type": "markdown",
   "metadata": {},
   "source": [
    "In certain cases, you may wish to carry out integer division. This can be achieved using the `//` operator:"
   ]
  },
  {
   "cell_type": "code",
   "execution_count": null,
   "metadata": {},
   "outputs": [],
   "source": [
    "print(2 // 3)"
   ]
  },
  {
   "cell_type": "markdown",
   "metadata": {},
   "source": [
    "Powers, eg. $4^2$ , can be obtained using 2 consecutive `*` symbols:"
   ]
  },
  {
   "cell_type": "code",
   "execution_count": null,
   "metadata": {},
   "outputs": [],
   "source": [
    "4 ** 2"
   ]
  },
  {
   "cell_type": "markdown",
   "metadata": {},
   "source": [
    "Modular arithmetic (or integer remainders), is done using the `%` symbol:"
   ]
  },
  {
   "cell_type": "code",
   "execution_count": null,
   "metadata": {},
   "outputs": [],
   "source": [
    "12 % 4"
   ]
  },
  {
   "cell_type": "code",
   "execution_count": null,
   "metadata": {},
   "outputs": [],
   "source": [
    "13 % 4"
   ]
  },
  {
   "cell_type": "code",
   "execution_count": null,
   "metadata": {},
   "outputs": [],
   "source": [
    "17 % 4"
   ]
  },
  {
   "cell_type": "markdown",
   "metadata": {},
   "source": [
    "### Exercise 1"
   ]
  },
  {
   "cell_type": "markdown",
   "metadata": {},
   "source": [
    "Write code to find:\n",
    "    \n",
    "a) $8.3 + 4$\n",
    "\n",
    "b) $5.1$ x $2.5$\n",
    "\n",
    "c) $10$ / $3$ (the answer should be a floating point value)\n",
    "\n",
    "d) $8.1^3$"
   ]
  },
  {
   "cell_type": "code",
   "execution_count": null,
   "metadata": {
    "solution2": "hidden",
    "solution2_first": true
   },
   "outputs": [],
   "source": [
    "# Exercise 1 a)"
   ]
  },
  {
   "cell_type": "code",
   "execution_count": null,
   "metadata": {
    "solution2": "hidden"
   },
   "outputs": [],
   "source": [
    "# Exercise 1 a)\n",
    "8.3 + 4"
   ]
  },
  {
   "cell_type": "code",
   "execution_count": null,
   "metadata": {
    "solution2": "hidden",
    "solution2_first": true
   },
   "outputs": [],
   "source": [
    "# Exercise 1 b)"
   ]
  },
  {
   "cell_type": "code",
   "execution_count": null,
   "metadata": {
    "solution2": "hidden"
   },
   "outputs": [],
   "source": [
    "# Exercise 1 b)\n",
    "5.1 * 2.5"
   ]
  },
  {
   "cell_type": "code",
   "execution_count": null,
   "metadata": {
    "solution2": "hidden",
    "solution2_first": true
   },
   "outputs": [],
   "source": [
    "# Exercise 1 c)"
   ]
  },
  {
   "cell_type": "code",
   "execution_count": null,
   "metadata": {
    "solution2": "hidden"
   },
   "outputs": [],
   "source": [
    "# Exercise 1 c)\n",
    "10 / 3"
   ]
  },
  {
   "cell_type": "code",
   "execution_count": null,
   "metadata": {
    "solution2": "hidden",
    "solution2_first": true
   },
   "outputs": [],
   "source": [
    "# Exercise 1 d)"
   ]
  },
  {
   "cell_type": "code",
   "execution_count": null,
   "metadata": {
    "solution2": "hidden"
   },
   "outputs": [],
   "source": [
    "# Exercise 1 d)\n",
    "8.1 ** 3 # (or 8.1 * 8.1 * 8.1)"
   ]
  },
  {
   "cell_type": "markdown",
   "metadata": {},
   "source": [
    "### Float Precision"
   ]
  },
  {
   "cell_type": "markdown",
   "metadata": {},
   "source": [
    "Floating point arithmetic is not exact, because computers work in base 2, which means that numbers like `1/10` are not stored exactly.\n",
    "\n",
    "Usually this is not a problem - floating point values are correct to ~17 significant figures on modern computers - however, it can mean that small errors creep in:"
   ]
  },
  {
   "cell_type": "code",
   "execution_count": null,
   "metadata": {},
   "outputs": [],
   "source": [
    "0.1 + 0.1 + 0.1"
   ]
  },
  {
   "cell_type": "markdown",
   "metadata": {},
   "source": [
    "When adding several small and large numbers together, you can find that your answer will eventually diverge from its exact solution.\n",
    "\n",
    "This is a common problem in computer science, and several approaches such as parallel and Kahan summation have been proposed to avoid this problem. A discussion of these methods goes beyond the scope of this tutorial, however for more information on this, we recommended looking at resources such as; \"Accuracy and Stability of Numerical Algorithms\" by Nicholas J. Higham."
   ]
  },
  {
   "cell_type": "markdown",
   "metadata": {},
   "source": [
    "### Exercise 2"
   ]
  },
  {
   "cell_type": "markdown",
   "metadata": {},
   "source": [
    "How accurate is the answer to $(1/10)^5$?"
   ]
  },
  {
   "cell_type": "code",
   "execution_count": null,
   "metadata": {
    "solution2": "hidden",
    "solution2_first": true
   },
   "outputs": [],
   "source": [
    "# Exercise 2"
   ]
  },
  {
   "cell_type": "code",
   "execution_count": null,
   "metadata": {
    "solution2": "hidden"
   },
   "outputs": [],
   "source": [
    "# Exercise 2\n",
    "print(0.1 ** 5)\n",
    "## Roughly 3e-21 off"
   ]
  },
  {
   "cell_type": "markdown",
   "metadata": {},
   "source": [
    "### Integer Precision"
   ]
  },
  {
   "cell_type": "markdown",
   "metadata": {},
   "source": [
    "So how big can a python integer be?\n",
    "\n",
    "In most programming languages, integers and floats are limited by the amount of memory allocated to them (you'll often hear the words \"64 bit integer\"). In Python 3, unlike floats, integers have an unlimited size, so that maximum value you can give them is only limited to the amount of memory your computer has. You will however find that processing times get much longer as you work with increasingly large numbers."
   ]
  },
  {
   "cell_type": "markdown",
   "metadata": {},
   "source": [
    "## 1.2 Strings"
   ]
  },
  {
   "cell_type": "markdown",
   "metadata": {},
   "source": [
    "As mentioned in the previous notebook, strings are essentially representations of text. This text is contained within quotes."
   ]
  },
  {
   "cell_type": "code",
   "execution_count": null,
   "metadata": {},
   "outputs": [],
   "source": [
    "print(\"this is a string\")"
   ]
  },
  {
   "cell_type": "markdown",
   "metadata": {},
   "source": [
    "As discussed in the previous section, the `print` function will write out the contents passed to it without the included quotation.\n",
    "\n",
    "**Note:** Jupyter notebook will often write out strings on cell execution without a `print` function, this is purely unique to notebooks. If you were to write the the following in a python script, only the contents passed to the `print` function would be shown in your terminal output."
   ]
  },
  {
   "cell_type": "code",
   "execution_count": null,
   "metadata": {},
   "outputs": [],
   "source": [
    "print(\"Hello\")"
   ]
  },
  {
   "cell_type": "code",
   "execution_count": null,
   "metadata": {},
   "outputs": [],
   "source": [
    "\"Hello\""
   ]
  },
  {
   "cell_type": "markdown",
   "metadata": {},
   "source": [
    "Failing to encapsulate the string within quotes will prevent the Python interpreter from knowing that it is a string."
   ]
  },
  {
   "cell_type": "code",
   "execution_count": null,
   "metadata": {},
   "outputs": [],
   "source": [
    "# NBVAL_RAISES_EXCEPTION\n",
    "## Note: ignore the above comment, this exists to allow us to test the notebook\n",
    "print(this is not a string)"
   ]
  },
  {
   "cell_type": "markdown",
   "metadata": {},
   "source": [
    "### Strings and quotation marks:"
   ]
  },
  {
   "cell_type": "markdown",
   "metadata": {},
   "source": [
    "Question: Do we have to use single quotes to indicate a string?  Will double quotes (`\"\"`) work as well?\n",
    "\n",
    "Answer: Yes. Single quotes, double quotes, and even triple quotes (`'''something'''` or `\"\"\"something\"\"\"`) tell Python that you want a string. When to use one or the other depends on what you are trying to do; check the exercises below for more on this.\n",
    "\n",
    "A word of caution: don't get in the habit of using triple quotes for strings, as these should be reserved for docstrings. As previously mentioned, these will be covered briefly in section 8, just know that these are important in other aspects of Python, and it generaly isn't a good idea to mix them with single and double quotation marks, unless you really have to."
   ]
  },
  {
   "cell_type": "markdown",
   "metadata": {},
   "source": [
    "You can use double quotes within single quotes and the other way around:"
   ]
  },
  {
   "cell_type": "code",
   "execution_count": null,
   "metadata": {},
   "outputs": [],
   "source": [
    "print(\"Single 'quotes' can be used within double quotes.\")\n",
    "print('Double \"quotes\" can be used within single quotes.')"
   ]
  },
  {
   "cell_type": "markdown",
   "metadata": {},
   "source": [
    "### Exercise 3"
   ]
  },
  {
   "cell_type": "markdown",
   "metadata": {},
   "source": [
    "Try printing strings surrounded by either single quotes or double quotes."
   ]
  },
  {
   "cell_type": "code",
   "execution_count": null,
   "metadata": {
    "solution2": "hidden",
    "solution2_first": true
   },
   "outputs": [],
   "source": [
    "# Exercise 3 a)"
   ]
  },
  {
   "cell_type": "code",
   "execution_count": null,
   "metadata": {
    "solution2": "hidden"
   },
   "outputs": [],
   "source": [
    "# Exercise 3 a)\n",
    "print('Example')\n",
    "print(\"Example\")"
   ]
  },
  {
   "cell_type": "markdown",
   "metadata": {},
   "source": [
    "As explained above, you can use the two types of quotation marks to print quotation marks within a string\n",
    "\n",
    "Try to print: Just say \"No!\""
   ]
  },
  {
   "cell_type": "code",
   "execution_count": null,
   "metadata": {
    "solution2": "hidden",
    "solution2_first": true
   },
   "outputs": [],
   "source": [
    "# Exercise 3 b)"
   ]
  },
  {
   "cell_type": "code",
   "execution_count": null,
   "metadata": {
    "solution2": "hidden"
   },
   "outputs": [],
   "source": [
    "# Exercise 3 b)\n",
    "print('Just say \"No!\"')"
   ]
  },
  {
   "cell_type": "markdown",
   "metadata": {},
   "source": [
    "You can also achieve the same effect with single quotes by using a backslash `\\` before the quotation mark you wish to be printed.  This \"escapes\" the single quote mark from being interpreted as a quotation mark at the end of the string.\n",
    "\n",
    "For example:"
   ]
  },
  {
   "cell_type": "code",
   "execution_count": null,
   "metadata": {},
   "outputs": [],
   "source": [
    "print('Just say \\'No!\\'')"
   ]
  },
  {
   "cell_type": "markdown",
   "metadata": {},
   "source": [
    "Print the following string twice, first using single quotes at the start and end of the string, then double quotes:\n",
    "\n",
    "`I can't be bothered with this \"exercise\"`"
   ]
  },
  {
   "cell_type": "code",
   "execution_count": null,
   "metadata": {
    "solution2": "hidden",
    "solution2_first": true
   },
   "outputs": [],
   "source": [
    "# Exercise 3 c)"
   ]
  },
  {
   "cell_type": "code",
   "execution_count": null,
   "metadata": {
    "solution2": "hidden"
   },
   "outputs": [],
   "source": [
    "# Exercise 3 c)\n",
    "print('I can\\'t be bothered with this \"exercise\"')\n",
    "# the following two solutions won't work\n",
    "# since the ' in can't will be recognised as a single quotation mark\n",
    "#print('I can't be bothered with this \"exercise\"')\n",
    "#print(\"I can't be bothered with this \"exercise\"\")"
   ]
  },
  {
   "cell_type": "markdown",
   "metadata": {},
   "source": [
    "#### More types of quotation marks\n",
    "\n",
    "If you want to include more than one line in your string, you can:\n",
    "- use a 'new line character' in your string - this character looks like: `\\n`\n",
    "- use triple quotes (`'''` or `\"\"\"`) at either end of your string"
   ]
  },
  {
   "cell_type": "code",
   "execution_count": null,
   "metadata": {},
   "outputs": [],
   "source": [
    "print('Here is an example of using a new line character\\nto print a second line.')"
   ]
  },
  {
   "cell_type": "code",
   "execution_count": null,
   "metadata": {},
   "outputs": [],
   "source": [
    "print('''Or you can just use triple quotes at either end of the string\n",
    "and start a new line as you type.''')"
   ]
  },
  {
   "cell_type": "markdown",
   "metadata": {},
   "source": [
    "### Manipulating strings"
   ]
  },
  {
   "cell_type": "markdown",
   "metadata": {},
   "source": [
    "Similarly to integers and floats, it is possible to do some types of operations on strings.\n",
    "\n",
    "For example, we can add two strings together:"
   ]
  },
  {
   "cell_type": "code",
   "execution_count": null,
   "metadata": {},
   "outputs": [],
   "source": [
    "# The first string:\n",
    "print('Hello')"
   ]
  },
  {
   "cell_type": "code",
   "execution_count": null,
   "metadata": {},
   "outputs": [],
   "source": [
    "# The second string:\n",
    "print('world')"
   ]
  },
  {
   "cell_type": "code",
   "execution_count": null,
   "metadata": {},
   "outputs": [],
   "source": [
    "# Add them together\n",
    "print('Hello'+'world')"
   ]
  },
  {
   "cell_type": "code",
   "execution_count": null,
   "metadata": {},
   "outputs": [],
   "source": [
    "# As you can see it doesn't add spaces automatically, you'll need to do it yourself\n",
    "print('Hello'+' '+'world')"
   ]
  },
  {
   "cell_type": "markdown",
   "metadata": {},
   "source": [
    "### Exercise 4"
   ]
  },
  {
   "cell_type": "markdown",
   "metadata": {},
   "source": [
    "What happens if you multiply the string “key” by 3?"
   ]
  },
  {
   "cell_type": "code",
   "execution_count": null,
   "metadata": {
    "solution2": "hidden",
    "solution2_first": true
   },
   "outputs": [],
   "source": [
    "# Exercise 4 a)"
   ]
  },
  {
   "cell_type": "code",
   "execution_count": null,
   "metadata": {
    "solution2": "hidden"
   },
   "outputs": [],
   "source": [
    "# Exercise 4 a)\n",
    "print(\"key\" * 3)"
   ]
  },
  {
   "cell_type": "markdown",
   "metadata": {},
   "source": [
    "There are some types of operations that don’t work on some objects. What happens if you try to instead divide “key” by 3?"
   ]
  },
  {
   "cell_type": "code",
   "execution_count": null,
   "metadata": {
    "solution2": "hidden",
    "solution2_first": true
   },
   "outputs": [],
   "source": [
    "# Exercise 4 b)"
   ]
  },
  {
   "cell_type": "code",
   "execution_count": null,
   "metadata": {
    "solution2": "hidden"
   },
   "outputs": [],
   "source": [
    "# NBVAL_RAISES_EXCEPTION\n",
    "## Note: ignore the above comment, this exists to allow us to test the notebook\n",
    "\n",
    "# Exercise 4 b)\n",
    "print(\"key\" / 3)"
   ]
  },
  {
   "cell_type": "markdown",
   "metadata": {},
   "source": [
    "## 1.3 Booleans"
   ]
  },
  {
   "cell_type": "markdown",
   "metadata": {},
   "source": [
    "The last basic Python object type is the Boolean. Named after George Boole, these object are used to represent “truth” and either take the form `True` or `False`."
   ]
  },
  {
   "cell_type": "code",
   "execution_count": null,
   "metadata": {},
   "outputs": [],
   "source": [
    "print(True)\n",
    "print(False)"
   ]
  },
  {
   "cell_type": "markdown",
   "metadata": {},
   "source": [
    "On their own Boolean objects are very little meaning, but combined with “relational operators” they can be very powerful tools. For example to compare if a number is greater than another:"
   ]
  },
  {
   "cell_type": "code",
   "execution_count": null,
   "metadata": {},
   "outputs": [],
   "source": [
    "# The greater than operator\n",
    "1 > 2"
   ]
  },
  {
   "cell_type": "code",
   "execution_count": null,
   "metadata": {},
   "outputs": [],
   "source": [
    "print(\"dog\" != \"cat\")"
   ]
  },
  {
   "cell_type": "code",
   "execution_count": null,
   "metadata": {},
   "outputs": [],
   "source": [
    "print(1.5 == 2.5)"
   ]
  },
  {
   "cell_type": "markdown",
   "metadata": {},
   "source": [
    "We will expand on Boolean operators and how to do comparisons in the next notebook."
   ]
  },
  {
   "cell_type": "markdown",
   "metadata": {},
   "source": [
    "## 1.4 Seeing types"
   ]
  },
  {
   "cell_type": "markdown",
   "metadata": {},
   "source": [
    "It is possible to interrogate the type of an object using the `type` method in Python. This can be useful when trying to keep track of what is contained within a variable (see next section)."
   ]
  },
  {
   "cell_type": "code",
   "execution_count": null,
   "metadata": {},
   "outputs": [],
   "source": [
    "print(type(1.5))"
   ]
  },
  {
   "cell_type": "markdown",
   "metadata": {},
   "source": [
    "You’ll notice that the output for the above is `<class 'float'>`. In Python classes are synonymous with objects."
   ]
  },
  {
   "cell_type": "markdown",
   "metadata": {},
   "source": [
    "### Exercise 5"
   ]
  },
  {
   "cell_type": "markdown",
   "metadata": {},
   "source": [
    "What is the type of `print`?"
   ]
  },
  {
   "cell_type": "code",
   "execution_count": null,
   "metadata": {
    "solution2": "hidden",
    "solution2_first": true
   },
   "outputs": [],
   "source": [
    "# Exercise 5"
   ]
  },
  {
   "cell_type": "code",
   "execution_count": null,
   "metadata": {
    "solution2": "hidden"
   },
   "outputs": [],
   "source": [
    "# Exercise 5\n",
    "type(print)"
   ]
  },
  {
   "cell_type": "markdown",
   "metadata": {
    "solution2": "hidden"
   },
   "source": [
    "`print` is a builtin function, which indicates a function that is \"built into Python\". Interestingly, `type(type)` will return `type`, the reason for this is complicated but the short story is that `type` implements the base `type` class for Python."
   ]
  },
  {
   "cell_type": "markdown",
   "metadata": {},
   "source": [
    "## 1.5 Other types of objects"
   ]
  },
  {
   "cell_type": "markdown",
   "metadata": {},
   "source": [
    "Many different types of python objects exist. Here we cover some other common object types which can be obtained by grouping strings, integers and floating point values into new objects:\n",
    "- Lists; surrounded by square brackets, `[ ]`, succesive entries are separated by `,`.  These are used a lot.\n",
    "- Tuples; surrounded by round brackets, `( )`, succesive entries are separated by `,`. Like a list except that, once specified, its elements can't be changed.\n",
    "- Dictionaries; surrounded by curly brackets, `{ }`, succesive entries are separated by `,`. These are lists of `key:value` pairs, where each entry is indexed by the contents of the `key`."
   ]
  },
  {
   "cell_type": "markdown",
   "metadata": {},
   "source": [
    "A list of integers:"
   ]
  },
  {
   "cell_type": "code",
   "execution_count": null,
   "metadata": {},
   "outputs": [],
   "source": [
    "[1, 6, 3, 0]"
   ]
  },
  {
   "cell_type": "markdown",
   "metadata": {},
   "source": [
    "A tuple of integers:"
   ]
  },
  {
   "cell_type": "code",
   "execution_count": null,
   "metadata": {},
   "outputs": [],
   "source": [
    "(6, 1, 3)"
   ]
  },
  {
   "cell_type": "markdown",
   "metadata": {},
   "source": [
    "A dictionary, eg. of exam scores for each person in a class (as string-float pairs):"
   ]
  },
  {
   "cell_type": "code",
   "execution_count": null,
   "metadata": {},
   "outputs": [],
   "source": [
    "{'Andy':2.0, 'Vivek':6.1, 'Sian':9.5, 'Chen':3.6}"
   ]
  },
  {
   "cell_type": "markdown",
   "metadata": {},
   "source": [
    "There are also many operations we can perform on these object types, eg. adding two lists.\n",
    "\n",
    "The types of operation you can perform will depend on the type of object (eg. try adding two dictionaries).\n",
    "\n",
    "We will come back to lists, tuples and dictionaries later on."
   ]
  },
  {
   "cell_type": "markdown",
   "metadata": {},
   "source": [
    "## Review\n",
    "\n",
    "In section 1.1 we covered:\n",
    "- Integers and floating points\n",
    "- Addition `+`.\n",
    "- Substraction `-`.\n",
    "- Multiplication `*`.\n",
    "- Division and differences from older version of python (`/` and `//`).\n",
    "- Power operations `**`.\n",
    "- Modulo arithmetics `%`.\n",
    "- Python size limits for floats (and the lack of a limit for integers)\n",
    "\n",
    "\n",
    "In section 1.2 we covered:\n",
    "- Strings, surrounded by either `'single quotes'` or `\"double quotes\"`.\n",
    "- Printing strings.\n",
    "- Adding strings together.\n",
    "- Quotes within a string, either using `\"double\"` or `'single quotes'`, or using `\\`.\n",
    "- Inserting a new line into your string, with a new line character, `\\n`, or `'''triple quotes'''`.\n",
    "\n",
    "\n",
    "In section 1.3 we covered:\n",
    "- Boolean types.\n",
    "\n",
    "\n",
    "In section 1.4 we covered:\n",
    "- How to check the type of an object using the `type()` function.\n",
    "\n",
    "\n",
    "In section 1.5 we covered:\n",
    "- Additional types of objects, including; lists, tuples, and dictionaries."
   ]
  }
 ],
 "metadata": {
  "kernelspec": {
   "display_name": "Python 3 (ipykernel)",
   "language": "python",
   "name": "python3"
  },
  "language_info": {
   "codemirror_mode": {
    "name": "ipython",
    "version": 3
   },
   "file_extension": ".py",
   "mimetype": "text/x-python",
   "name": "python",
   "nbconvert_exporter": "python",
   "pygments_lexer": "ipython3",
   "version": "3.9.15"
  }
 },
 "nbformat": 4,
 "nbformat_minor": 1
}
